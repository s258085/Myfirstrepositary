{
 "cells": [
  {
   "cell_type": "code",
   "execution_count": null,
   "metadata": {},
   "outputs": [],
   "source": [
    "def socksm(n,sockslist):\n",
    "    mydic = {}\n",
    "    for x in sockslist:\n",
    "        if x not in mydic:\n",
    "            mydic[x]=1\n",
    "        else:\n",
    "            mydic[x] +=1\n",
    "    for t,y in zip(mydic.values(),mydic.keys()):\n",
    "        if t/n >= 1:\n",
    "            mydic[y]= f\"{t//n} Groups of {n} and {t%n} remaining\"\n",
    "        else:\n",
    "            mydic[y]= f\"No groups of {n} formed bc only {t} elements\"\n",
    "    return mydic\n",
    "\n",
    "socksm(3,[3,3,3,3,3,\"d\",1,\"d\",3,2,3,2,5,2,1,3,3,1,3,3,5,3,2,3])"
   ]
  },
  {
   "cell_type": "code",
   "execution_count": 277,
   "metadata": {},
   "outputs": [
    {
     "data": {
      "text/plain": [
       "'The word is anaconda with 3 times the letter a'"
      ]
     },
     "execution_count": 277,
     "metadata": {},
     "output_type": "execute_result"
    }
   ],
   "source": [
    "def ex3_2(wordlist):\n",
    "    from collections import Counter as cnt\n",
    "    mylist1 = []\n",
    "    mylist2 = []\n",
    "    for word in wordlist:\n",
    "        mylist1.append((max(cnt(word).values())))\n",
    "        mylist2.append((max(cnt(word),key = cnt(word).get)))\n",
    "    return f\"The word is {wordlist[mylist1.index(max(mylist1))]} with {max(mylist1)} times the letter {mylist2[mylist1.index(max(mylist1))]}\"\n",
    "inputlist = [\"anaconda\",\"bat\",\"Giraffe\",\"earthquake\",\"kangaroo\"]\n",
    "ex3_2(inputlist)"
   ]
  },
  {
   "cell_type": "code",
   "execution_count": 276,
   "metadata": {},
   "outputs": [
    {
     "data": {
      "text/plain": [
       "\"Number of characters including whitespaces is:  171     Number of characters excluding whitespaces is: 141     Number of words separated by whitespaces is : 35     Number of lines is: 4     The unique words are: ['hello', 'world', 'my', 'name', 'is', 'daniel', 'i', 'am', 'writing', 'this', 'txt', 'to', 'try', 'the', 'excercise', '5', 'of', 'python', 'course', 'just', 'starting', 'learn', 'so', 'script', 'migth', 'not', 'work', 'good']\""
      ]
     },
     "execution_count": 276,
     "metadata": {},
     "output_type": "execute_result"
    }
   ],
   "source": [
    "def ex5(txtname):\n",
    "    file = open(txtname, \"r\")\n",
    "    data = file.read()\n",
    "    myspaces = 0\n",
    "    words = [x.lower() for x in data.split()]\n",
    "    lines = 0\n",
    "    uniquewords = []\n",
    "    for x in data:\n",
    "        if x == \" \" :\n",
    "            myspaces += 1\n",
    "        if x == \"\\n\":\n",
    "            lines += 1\n",
    "    for word in words:\n",
    "        if word not in uniquewords:\n",
    "            uniquewords.append(word)\n",
    "    return(f\"Number of characters including whitespaces is:  {len(data)} \\\n",
    "    Number of characters excluding whitespaces is: {len(data) - myspaces} \\\n",
    "    Number of words separated by whitespaces is : {len(words)} \\\n",
    "    Number of lines is: {lines} \\\n",
    "    The unique words are: {uniquewords}\")\n",
    "\n",
    "ex5(\"ex05.txt\")"
   ]
  },
  {
   "cell_type": "code",
   "execution_count": 174,
   "metadata": {},
   "outputs": [
    {
     "name": "stdout",
     "output_type": "stream",
     "text": [
      "81\n"
     ]
    }
   ],
   "source": [
    "print(1*9*3*3)\n"
   ]
  },
  {
   "cell_type": "code",
   "execution_count": 217,
   "metadata": {},
   "outputs": [
    {
     "data": {
      "text/plain": [
       "96"
      ]
     },
     "execution_count": 217,
     "metadata": {},
     "output_type": "execute_result"
    }
   ],
   "source": [
    "def ex6(mystr):\n",
    "    numbers = [int(x) for x in mystr[1:]]\n",
    "    indices=list(range(0,len(numbers)))\n",
    "    answer = 1\n",
    "    if mystr[0] == \"+\":\n",
    "        answer = sum(numbers)\n",
    "    elif mystr[0] == \"-\":\n",
    "        answer = numbers[0]-sum(numbers[1:])\n",
    "    elif mystr[0] == \"*\":\n",
    "        for x in numbers:\n",
    "            answer = answer*x\n",
    "    elif mystr[0] == \"/\":\n",
    "        for u in indices:\n",
    "            if len(numbers)>1:\n",
    "                b =operator.truediv(numbers[0],numbers[0+1])\n",
    "                numbers.remove(numbers[0])\n",
    "                numbers[0]=b\n",
    "                answer = numbers[0]\n",
    "    elif mystr[0] == \"e\":\n",
    "        for u in indices:\n",
    "            if len(numbers)>1:\n",
    "                b =operator.pow(numbers[0],numbers[0+1])\n",
    "                numbers.remove(numbers[0])\n",
    "                numbers[0]=b\n",
    "                answer = numbers[0]\n",
    "    elif mystr[0] == \"e\":\n",
    "        for u in indices:\n",
    "            if len(numbers)>1:\n",
    "                b =operator.pow(numbers[0],numbers[0+1])\n",
    "                numbers.remove(numbers[0])\n",
    "                numbers[0]=b\n",
    "                answer = numbers[0]\n",
    "    elif mystr[0] == \"%\":\n",
    "        for u in indices:\n",
    "            if len(numbers)>1:\n",
    "                b =operator.mod(numbers[0],numbers[0+1])\n",
    "                numbers.remove(numbers[0])\n",
    "                numbers[0]=b\n",
    "                answer = numbers[0]\n",
    "    else:\n",
    "        answer = \"Not valid symbol as first character\"\n",
    "    return(answer)\n",
    "ex6(\"*4234\")"
   ]
  },
  {
   "cell_type": "code",
   "execution_count": 250,
   "metadata": {},
   "outputs": [
    {
     "name": "stdout",
     "output_type": "stream",
     "text": [
      "2955\n"
     ]
    }
   ],
   "source": [
    "mynum = 1111\n",
    "digits = [int(d) for d in str(mynum)]\n",
    "base = 14\n",
    "ere = list(reversed(range(0,len(str(mynum)))))\n",
    "elevated = [base**e for e in ere]\n",
    "result = [a*b for a,b in zip(digits,elevated)]\n",
    "print(sum(result))"
   ]
  },
  {
   "cell_type": "code",
   "execution_count": 249,
   "metadata": {},
   "outputs": [
    {
     "data": {
      "text/plain": [
       "2955"
      ]
     },
     "execution_count": 249,
     "metadata": {},
     "output_type": "execute_result"
    }
   ],
   "source": [
    "def ex2(num,base):\n",
    "    strnum = str(num)\n",
    "    digits =[int(d) for d in strnum]\n",
    "    position = list(reversed(range(0,len(strnum))))\n",
    "    elevated = [base**p for p in position]\n",
    "    result = [a*b for a,b in zip(digits,elevated)]\n",
    "    return(sum(result))\n",
    "ex2(1111,14)"
   ]
  },
  {
   "cell_type": "code",
   "execution_count": null,
   "metadata": {},
   "outputs": [],
   "source": []
  }
 ],
 "metadata": {
  "kernelspec": {
   "display_name": "Python 3",
   "language": "python",
   "name": "python3"
  },
  "language_info": {
   "codemirror_mode": {
    "name": "ipython",
    "version": 3
   },
   "file_extension": ".py",
   "mimetype": "text/x-python",
   "name": "python",
   "nbconvert_exporter": "python",
   "pygments_lexer": "ipython3",
   "version": "3.6.6"
  }
 },
 "nbformat": 4,
 "nbformat_minor": 5
}
