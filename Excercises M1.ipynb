{
 "cells": [
  {
   "cell_type": "code",
   "execution_count": 1,
   "id": "57980706",
   "metadata": {},
   "outputs": [
    {
     "name": "stdout",
     "output_type": "stream",
     "text": [
      "Enter a number: 2\n",
      "Select higher number\n",
      "Enter a number: 60\n",
      "Select higher number\n",
      "Enter a number: 90\n",
      "Select lower number\n",
      "Enter a number: 80\n",
      "Select higher number\n",
      "Enter a number: 88\n",
      "You win!\n"
     ]
    }
   ],
   "source": [
    "def ex1():\n",
    "    import random \n",
    "    usernumber = int(input(\"Enter a number: \"))\n",
    "    game_number = random.randint(0,100)\n",
    "    while usernumber != game_number:\n",
    "        if usernumber > game_number:\n",
    "            print(\"Select lower number\")\n",
    "            usernumber = int(input(\"Enter a number: \"))\n",
    "        else:\n",
    "            print(\"Select higher number\")\n",
    "            usernumber = int(input(\"Enter a number: \"))  \n",
    "    print(\"You win!\")\n",
    "ex1()"
   ]
  },
  {
   "cell_type": "code",
   "execution_count": 2,
   "id": "6c435968",
   "metadata": {},
   "outputs": [
    {
     "data": {
      "text/plain": [
       "2955"
      ]
     },
     "execution_count": 2,
     "metadata": {},
     "output_type": "execute_result"
    }
   ],
   "source": [
    "def ex2(num,base):\n",
    "    strnum = str(num)\n",
    "    digits =[int(d) for d in strnum]\n",
    "    position = list(reversed(range(0,len(strnum))))\n",
    "    elevated = [base**p for p in position]\n",
    "    result = [a*b for a,b in zip(digits,elevated)]\n",
    "    return(sum(result))\n",
    "ex2(1111,14)"
   ]
  },
  {
   "cell_type": "code",
   "execution_count": 3,
   "id": "5c5a67b0",
   "metadata": {},
   "outputs": [
    {
     "name": "stdout",
     "output_type": "stream",
     "text": [
      "Enter a word: Daniel\n",
      "Danielday\n"
     ]
    }
   ],
   "source": [
    "def ex31():\n",
    "    inp = input(\"Enter a word: \")\n",
    "    letterlist = [\"a\",\"e\",\"i\",\"o\",\"u\"]\n",
    "    if inp[0:1].lower() in letterlist:   \n",
    "        inp = inp[0:] + \"way\"\n",
    "    else:\n",
    "        inp = inp + inp[0].lower() + \"ay\"\n",
    "    print(inp)\n",
    "ex31()"
   ]
  },
  {
   "cell_type": "code",
   "execution_count": 4,
   "id": "1577f242",
   "metadata": {},
   "outputs": [
    {
     "name": "stdout",
     "output_type": "stream",
     "text": [
      "Enter a sentence: Daniel is doing excercises in python\n",
      "Danielday isway doingday excercisesway inway pythonpay\n"
     ]
    }
   ],
   "source": [
    "def ex32():\n",
    "    sentence = input(\"Enter a sentence: \")\n",
    "    wordlist = sentence.split()\n",
    "    letterlist = [word[0].lower() for word in wordlist]\n",
    "    myletterlist = [\"a\",\"e\",\"i\",\"o\",\"u\"]\n",
    "    newwordlist = []\n",
    "    for letter,word in zip(letterlist,wordlist):\n",
    "            if letter in myletterlist:\n",
    "                word = word + \"way\"\n",
    "            else:\n",
    "                word=word + letter + \"ay\"\n",
    "            newwordlist.append(word)\n",
    "            sentence = ' '.join(newwordlist)\n",
    "    print(sentence)\n",
    "ex32()"
   ]
  },
  {
   "cell_type": "code",
   "execution_count": 5,
   "id": "f9ac7f45",
   "metadata": {},
   "outputs": [
    {
     "data": {
      "text/plain": [
       "'The word is anaconda with 3 times the letter a'"
      ]
     },
     "execution_count": 5,
     "metadata": {},
     "output_type": "execute_result"
    }
   ],
   "source": [
    "def ex4(wordlist):\n",
    "    from collections import Counter as cnt\n",
    "    mylist1 = []\n",
    "    mylist2 = []\n",
    "    for word in wordlist:\n",
    "        mylist1.append((max(cnt(word).values())))\n",
    "        mylist2.append((max(cnt(word),key = cnt(word).get)))\n",
    "    return f\"The word is {wordlist[mylist1.index(max(mylist1))]} with {max(mylist1)} times the letter {mylist2[mylist1.index(max(mylist1))]}\"\n",
    "ex4([\"anaconda\",\"bat\",\"Giraffe\",\"earthquake\",\"kangaroo\"])"
   ]
  },
  {
   "cell_type": "code",
   "execution_count": 7,
   "id": "3e8ed76b",
   "metadata": {},
   "outputs": [
    {
     "data": {
      "text/plain": [
       "\"Number of characters including whitespaces is:  171               Number of characters excluding whitespaces is: 141             Number of words separated by whitespaces is : 35            Number of lines is: 4            Unique words are ['hello', 'world', 'my', 'name', 'daniel', 'writing', 'txt', 'try', 'the', 'excercise', '5', 'of', 'course', 'just', 'starting', 'learn', 'so', 'script', 'migth', 'not', 'work', 'good']\""
      ]
     },
     "execution_count": 7,
     "metadata": {},
     "output_type": "execute_result"
    }
   ],
   "source": [
    "def ex5(txtname):\n",
    "    file = open(txtname, \"r\")\n",
    "    data = file.read()\n",
    "   \n",
    "    myspaces = 0\n",
    "    lines = 0\n",
    "    for x in data:\n",
    "        if x == \" \" :\n",
    "            myspaces += 1\n",
    "        if x == \"\\n\":\n",
    "            lines += 1\n",
    "            \n",
    "    words = [x.lower() for x in data.split()]\n",
    "    mywords = {}\n",
    "    uniquewords = []\n",
    "    for word in words:\n",
    "        if word not in mywords:\n",
    "            mywords[word]=1\n",
    "        else:\n",
    "            mywords[word] +=1\n",
    "    for x,y in zip(mywords.values(),mywords.keys()):\n",
    "        if x == 1:\n",
    "            uniquewords.append(y)\n",
    "    return(f\"Number of characters including whitespaces is:  {len(data)}   \\\n",
    "            Number of characters excluding whitespaces is: {len(data) - myspaces} \\\n",
    "            Number of words separated by whitespaces is : {len(words)} \\\n",
    "           Number of lines is: {lines} \\\n",
    "           Unique words are {uniquewords}\")\n",
    "\n",
    "ex5(\"ex05.txt\")"
   ]
  },
  {
   "cell_type": "code",
   "execution_count": 12,
   "id": "d101755d",
   "metadata": {},
   "outputs": [
    {
     "data": {
      "text/plain": [
       "8712"
      ]
     },
     "execution_count": 12,
     "metadata": {},
     "output_type": "execute_result"
    }
   ],
   "source": [
    "def ex6(stringvalue):\n",
    "    import operator, functools\n",
    "    valuelist = stringvalue.split()\n",
    "    mynumeros = [int(x) for x in valuelist[1:]]\n",
    "    myoperator = {\"+\": operator.add,\n",
    "              \"-\": operator.sub,\n",
    "              \"*\": operator.mul,\n",
    "              \"/\": operator.truediv,\n",
    "              \"**\": operator.pow,\n",
    "              \"%\": operator.mod}\n",
    "    answer=functools.reduce(myoperator[valuelist[0]],mynumeros)\n",
    "    return(answer)\n",
    "ex6(\"* 33 12 22\")"
   ]
  },
  {
   "cell_type": "code",
   "execution_count": null,
   "id": "682644d9",
   "metadata": {},
   "outputs": [],
   "source": []
  }
 ],
 "metadata": {
  "kernelspec": {
   "display_name": "Python 3 (ipykernel)",
   "language": "python",
   "name": "python3"
  },
  "language_info": {
   "codemirror_mode": {
    "name": "ipython",
    "version": 3
   },
   "file_extension": ".py",
   "mimetype": "text/x-python",
   "name": "python",
   "nbconvert_exporter": "python",
   "pygments_lexer": "ipython3",
   "version": "3.9.13"
  }
 },
 "nbformat": 4,
 "nbformat_minor": 5
}
